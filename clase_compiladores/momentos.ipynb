{
 "cells": [
  {
   "cell_type": "markdown",
   "metadata": {},
   "source": [
    "### A01721636 Carlos Cuilty Villarreal"
   ]
  },
  {
   "cell_type": "code",
   "execution_count": 65,
   "metadata": {},
   "outputs": [],
   "source": [
    "import numpy as np"
   ]
  },
  {
   "cell_type": "code",
   "execution_count": 66,
   "metadata": {},
   "outputs": [
    {
     "data": {
      "text/plain": [
       "[1, 1, 2, 1, 3, 4, 2, 1, 3, 2]"
      ]
     },
     "execution_count": 66,
     "metadata": {},
     "output_type": "execute_result"
    }
   ],
   "source": [
    "n = input(\"Lista input: \")\n",
    "n = list(map(int, n.split()))\n",
    "n"
   ]
  },
  {
   "cell_type": "code",
   "execution_count": 67,
   "metadata": {},
   "outputs": [
    {
     "data": {
      "text/plain": [
       "(array([1, 2, 3, 4]), array([4, 3, 2, 1]), array([0.4, 0.3, 0.2, 0.1]))"
      ]
     },
     "execution_count": 67,
     "metadata": {},
     "output_type": "execute_result"
    }
   ],
   "source": [
    "n_unicos, count = np.unique(n, return_counts=True)\n",
    "prob = count / len(n)\n",
    "n_unicos, count, prob"
   ]
  },
  {
   "cell_type": "code",
   "execution_count": 68,
   "metadata": {},
   "outputs": [
    {
     "data": {
      "text/plain": [
       "(2.0, 5.0, 14.6, 47.0)"
      ]
     },
     "execution_count": 68,
     "metadata": {},
     "output_type": "execute_result"
    }
   ],
   "source": [
    "# momentos\n",
    "m1 = np.mean(n) \n",
    "\n",
    "m2 = 0\n",
    "for i in range(len(prob)):\n",
    "    m2 += ((n_unicos[i]**2) * prob[i])\n",
    "\n",
    "m3 = 0\n",
    "for i in range(len(prob)):\n",
    "    m3 += ((n_unicos[i]**3) * prob[i])\n",
    "\n",
    "m4 = 0\n",
    "for i in range(len(prob)):\n",
    "    m4 += ((n_unicos[i]**4) * prob[i])\n",
    "\n",
    "m1, m2, m3 ,m4"
   ]
  },
  {
   "cell_type": "code",
   "execution_count": 69,
   "metadata": {},
   "outputs": [
    {
     "name": "stdout",
     "output_type": "stream",
     "text": [
      "\n",
      "Momentos estadísticos:\n",
      "Momento 1: 2.0\n",
      "Momento 2: 5.0\n",
      "Momento 3: 14.6\n",
      "Momento 4: 47.0\n"
     ]
    }
   ],
   "source": [
    "print(\"\\nMomentos estadísticos:\")\n",
    "print(f\"Momento 1: {m1}\")\n",
    "print(f\"Momento 2: {m2}\")\n",
    "print(f\"Momento 3: {m3}\")\n",
    "print(f\"Momento 4: {m4}\")"
   ]
  },
  {
   "cell_type": "code",
   "execution_count": 70,
   "metadata": {},
   "outputs": [
    {
     "name": "stdout",
     "output_type": "stream",
     "text": [
      "Num | Count | Prob\n",
      "---------------------------\n",
      "1 | 4 | 40.0%\n",
      "2 | 3 | 30.0%\n",
      "3 | 2 | 20.0%\n",
      "4 | 1 | 10.0%\n"
     ]
    }
   ],
   "source": [
    "print(\"Num | Count | Prob\")\n",
    "print(\"---------------------------\")\n",
    "for unique, c, p in zip(n_unicos, count, prob):\n",
    "    print(f\"{unique} | {c} | {p*100}%\")"
   ]
  },
  {
   "cell_type": "code",
   "execution_count": 71,
   "metadata": {},
   "outputs": [
    {
     "data": {
      "text/plain": [
       "1.0"
      ]
     },
     "execution_count": 71,
     "metadata": {},
     "output_type": "execute_result"
    }
   ],
   "source": [
    "varianza = np.var(n)\n",
    "varianza"
   ]
  },
  {
   "cell_type": "code",
   "execution_count": 72,
   "metadata": {},
   "outputs": [
    {
     "data": {
      "text/plain": [
       "1.0"
      ]
     },
     "execution_count": 72,
     "metadata": {},
     "output_type": "execute_result"
    }
   ],
   "source": [
    "varianza_cal = m2 - m1**2\n",
    "varianza_cal"
   ]
  },
  {
   "cell_type": "code",
   "execution_count": 39,
   "metadata": {},
   "outputs": [
    {
     "ename": "SyntaxError",
     "evalue": "invalid syntax (3522838764.py, line 1)",
     "output_type": "error",
     "traceback": [
      "\u001b[0;36m  Cell \u001b[0;32mIn[39], line 1\u001b[0;36m\u001b[0m\n\u001b[0;31m    4 2 2 2 1 2 1 2 4 3 3 3 1 3 3 4 3 3 1 4 5 5 2 1 5 1 4 2 5 3 2 5 3 1 5 3 2 3 2 4 3 3 2 3 1 3 1 3 5 2 1 1 5 5 5 2 5 2 1 4 5 3 3 1 1 3 2 1 4 1 4 3 3 3 5 4 1 5 4 1 2 2 4 1 3 1 2 3 1 3 4 2 3 5 4 1 3 1 3 4\u001b[0m\n\u001b[0m      ^\u001b[0m\n\u001b[0;31mSyntaxError\u001b[0m\u001b[0;31m:\u001b[0m invalid syntax\n"
     ]
    }
   ],
   "source": [
    "4 2 2 2 1 2 1 2 4 3 3 3 1 3 3 4 3 3 1 4 5 5 2 1 5 1 4 2 5 3 2 5 3 1 5 3 2 3 2 4 3 3 2 3 1 3 1 3 5 2 1 1 5 5 5 2 5 2 1 4 5 3 3 1 1 3 2 1 4 1 4 3 3 3 5 4 1 5 4 1 2 2 4 1 3 1 2 3 1 3 4 2 3 5 4 1 3 1 3 4"
   ]
  },
  {
   "cell_type": "code",
   "execution_count": null,
   "metadata": {},
   "outputs": [],
   "source": [
    "1 1 2 1 3 4 2 1 3 2"
   ]
  }
 ],
 "metadata": {
  "kernelspec": {
   "display_name": "d2l",
   "language": "python",
   "name": "python3"
  },
  "language_info": {
   "codemirror_mode": {
    "name": "ipython",
    "version": 3
   },
   "file_extension": ".py",
   "mimetype": "text/x-python",
   "name": "python",
   "nbconvert_exporter": "python",
   "pygments_lexer": "ipython3",
   "version": "3.9.19"
  }
 },
 "nbformat": 4,
 "nbformat_minor": 2
}
